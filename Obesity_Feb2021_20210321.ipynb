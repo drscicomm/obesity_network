{
  "nbformat": 4,
  "nbformat_minor": 0,
  "metadata": {
    "colab": {
      "name": "Obesity_Feb2021_20210321.ipynb",
      "provenance": [],
      "authorship_tag": "ABX9TyNNz2fasGHj1mz7SF/SDUqN",
      "include_colab_link": true
    },
    "kernelspec": {
      "name": "python3",
      "display_name": "Python 3"
    },
    "language_info": {
      "name": "python"
    }
  },
  "cells": [
    {
      "cell_type": "markdown",
      "metadata": {
        "id": "view-in-github",
        "colab_type": "text"
      },
      "source": [
        "<a href=\"https://colab.research.google.com/github/drscicomm/obesity_network/blob/main/Obesity_Feb2021_20210321.ipynb\" target=\"_parent\"><img src=\"https://colab.research.google.com/assets/colab-badge.svg\" alt=\"Open In Colab\"/></a>"
      ]
    },
    {
      "cell_type": "code",
      "metadata": {
        "colab": {
          "base_uri": "https://localhost:8080/"
        },
        "id": "hBNhEj2F0fVy",
        "outputId": "2a818a52-8618-4375-f12e-0a8741877281"
      },
      "source": [
        "#set up environment\n",
        "!pip uninstall twint -y"
      ],
      "execution_count": 1,
      "outputs": [
        {
          "output_type": "stream",
          "text": [
            "Uninstalling twint-2.1.21:\n",
            "  Successfully uninstalled twint-2.1.21\n"
          ],
          "name": "stdout"
        }
      ]
    },
    {
      "cell_type": "code",
      "metadata": {
        "colab": {
          "base_uri": "https://localhost:8080/"
        },
        "id": "tct8-patkuBg",
        "outputId": "15f506a0-6ca2-48d8-db70-4a5ec765abf9"
      },
      "source": [
        "# Reinstall new version Twint\n",
        "!pip3 install --user --upgrade git+https://github.com/twintproject/twint.git@origin/master#egg=twint"
      ],
      "execution_count": 2,
      "outputs": [
        {
          "output_type": "stream",
          "text": [
            "Collecting twint\n",
            "  Cloning https://github.com/twintproject/twint.git (to revision origin/master) to /tmp/pip-install-bverm8ip/twint\n",
            "  Running command git clone -q https://github.com/twintproject/twint.git /tmp/pip-install-bverm8ip/twint\n",
            "\u001b[33m  WARNING: Did not find branch or tag 'origin/master', assuming revision or ref.\u001b[0m\n",
            "  Running command git checkout -q origin/master\n",
            "Requirement already satisfied, skipping upgrade: aiohttp in /usr/local/lib/python3.7/dist-packages (from twint) (3.7.4.post0)\n",
            "Requirement already satisfied, skipping upgrade: aiodns in /usr/local/lib/python3.7/dist-packages (from twint) (2.0.0)\n",
            "Requirement already satisfied, skipping upgrade: beautifulsoup4 in /usr/local/lib/python3.7/dist-packages (from twint) (4.6.3)\n",
            "Requirement already satisfied, skipping upgrade: cchardet in /usr/local/lib/python3.7/dist-packages (from twint) (2.1.7)\n",
            "Requirement already satisfied, skipping upgrade: dataclasses in /root/.local/lib/python3.7/site-packages (from twint) (0.6)\n",
            "Requirement already satisfied, skipping upgrade: elasticsearch in /usr/local/lib/python3.7/dist-packages (from twint) (7.12.0)\n",
            "Requirement already satisfied, skipping upgrade: pysocks in /usr/local/lib/python3.7/dist-packages (from twint) (1.7.1)\n",
            "Requirement already satisfied, skipping upgrade: pandas in /usr/local/lib/python3.7/dist-packages (from twint) (1.1.5)\n",
            "Requirement already satisfied, skipping upgrade: aiohttp_socks in /usr/local/lib/python3.7/dist-packages (from twint) (0.6.0)\n",
            "Requirement already satisfied, skipping upgrade: schedule in /usr/local/lib/python3.7/dist-packages (from twint) (1.0.0)\n",
            "Requirement already satisfied, skipping upgrade: geopy in /usr/local/lib/python3.7/dist-packages (from twint) (1.17.0)\n",
            "Requirement already satisfied, skipping upgrade: fake-useragent in /usr/local/lib/python3.7/dist-packages (from twint) (0.1.11)\n",
            "Requirement already satisfied, skipping upgrade: googletransx in /usr/local/lib/python3.7/dist-packages (from twint) (2.4.2)\n",
            "Requirement already satisfied, skipping upgrade: async-timeout<4.0,>=3.0 in /usr/local/lib/python3.7/dist-packages (from aiohttp->twint) (3.0.1)\n",
            "Requirement already satisfied, skipping upgrade: multidict<7.0,>=4.5 in /usr/local/lib/python3.7/dist-packages (from aiohttp->twint) (5.1.0)\n",
            "Requirement already satisfied, skipping upgrade: chardet<5.0,>=2.0 in /usr/local/lib/python3.7/dist-packages (from aiohttp->twint) (3.0.4)\n",
            "Requirement already satisfied, skipping upgrade: attrs>=17.3.0 in /usr/local/lib/python3.7/dist-packages (from aiohttp->twint) (20.3.0)\n",
            "Requirement already satisfied, skipping upgrade: typing-extensions>=3.6.5 in /usr/local/lib/python3.7/dist-packages (from aiohttp->twint) (3.7.4.3)\n",
            "Requirement already satisfied, skipping upgrade: yarl<2.0,>=1.0 in /usr/local/lib/python3.7/dist-packages (from aiohttp->twint) (1.6.3)\n",
            "Requirement already satisfied, skipping upgrade: pycares>=3.0.0 in /usr/local/lib/python3.7/dist-packages (from aiodns->twint) (3.1.1)\n",
            "Requirement already satisfied, skipping upgrade: certifi in /usr/local/lib/python3.7/dist-packages (from elasticsearch->twint) (2020.12.5)\n",
            "Requirement already satisfied, skipping upgrade: urllib3<2,>=1.21.1 in /usr/local/lib/python3.7/dist-packages (from elasticsearch->twint) (1.24.3)\n",
            "Requirement already satisfied, skipping upgrade: pytz>=2017.2 in /usr/local/lib/python3.7/dist-packages (from pandas->twint) (2018.9)\n",
            "Requirement already satisfied, skipping upgrade: numpy>=1.15.4 in /usr/local/lib/python3.7/dist-packages (from pandas->twint) (1.19.5)\n",
            "Requirement already satisfied, skipping upgrade: python-dateutil>=2.7.3 in /usr/local/lib/python3.7/dist-packages (from pandas->twint) (2.8.1)\n",
            "Requirement already satisfied, skipping upgrade: python-socks[asyncio]>=1.2.2 in /usr/local/lib/python3.7/dist-packages (from aiohttp_socks->twint) (1.2.3)\n",
            "Requirement already satisfied, skipping upgrade: geographiclib<2,>=1.49 in /usr/local/lib/python3.7/dist-packages (from geopy->twint) (1.50)\n",
            "Requirement already satisfied, skipping upgrade: requests in /usr/local/lib/python3.7/dist-packages (from googletransx->twint) (2.23.0)\n",
            "Requirement already satisfied, skipping upgrade: idna>=2.0 in /usr/local/lib/python3.7/dist-packages (from yarl<2.0,>=1.0->aiohttp->twint) (2.10)\n",
            "Requirement already satisfied, skipping upgrade: cffi>=1.5.0 in /usr/local/lib/python3.7/dist-packages (from pycares>=3.0.0->aiodns->twint) (1.14.5)\n",
            "Requirement already satisfied, skipping upgrade: six>=1.5 in /usr/local/lib/python3.7/dist-packages (from python-dateutil>=2.7.3->pandas->twint) (1.15.0)\n",
            "Requirement already satisfied, skipping upgrade: pycparser in /usr/local/lib/python3.7/dist-packages (from cffi>=1.5.0->pycares>=3.0.0->aiodns->twint) (2.20)\n",
            "Building wheels for collected packages: twint\n",
            "  Building wheel for twint (setup.py) ... \u001b[?25l\u001b[?25hdone\n",
            "  Created wheel for twint: filename=twint-2.1.21-cp37-none-any.whl size=38863 sha256=467783dc49069c5a725cb7e93e258a55baa74059ce4eaec2ef982e4f8b97d578\n",
            "  Stored in directory: /tmp/pip-ephem-wheel-cache-pql88yoh/wheels/4f/3b/75/62d04b3b446658ba85401e8868d3cd1d4bc22f17ad755460a6\n",
            "Successfully built twint\n",
            "Installing collected packages: twint\n",
            "\u001b[33m  WARNING: The script twint is installed in '/root/.local/bin' which is not on PATH.\n",
            "  Consider adding this directory to PATH or, if you prefer to suppress this warning, use --no-warn-script-location.\u001b[0m\n",
            "Successfully installed twint-2.1.21\n"
          ],
          "name": "stdout"
        }
      ]
    },
    {
      "cell_type": "code",
      "metadata": {
        "colab": {
          "base_uri": "https://localhost:8080/"
        },
        "id": "AduG9YfP00v5",
        "outputId": "ca774a03-edb9-4069-f9a2-98277c13bb0c"
      },
      "source": [
        "# other environments needed\n",
        "!pip3 install nest_asyncio\n",
        "!pip3 install python-dotenv"
      ],
      "execution_count": 3,
      "outputs": [
        {
          "output_type": "stream",
          "text": [
            "Requirement already satisfied: nest_asyncio in /usr/local/lib/python3.7/dist-packages (1.5.1)\n",
            "Requirement already satisfied: python-dotenv in /usr/local/lib/python3.7/dist-packages (0.15.0)\n"
          ],
          "name": "stdout"
        }
      ]
    },
    {
      "cell_type": "code",
      "metadata": {
        "id": "xUIs10jJ2rHM"
      },
      "source": [
        "!pip freeze > requirements.txt"
      ],
      "execution_count": 4,
      "outputs": []
    },
    {
      "cell_type": "code",
      "metadata": {
        "id": "K81CiVXu2Slu"
      },
      "source": [
        "# import packages\n",
        "import os, sys, time, csv, math\n",
        "# Basic utilities for processing data in python\n",
        "import pandas as pd\n",
        "import numpy as np\n",
        "import twint\n",
        "import nest_asyncio\n",
        "nest_asyncio.apply()\n",
        "from collections import Counter\n"
      ],
      "execution_count": 5,
      "outputs": []
    },
    {
      "cell_type": "code",
      "metadata": {
        "id": "VdKRIS2ClaRh"
      },
      "source": [
        "# Twitter API client\n",
        "import tweepy\n",
        "from tweepy import Cursor"
      ],
      "execution_count": 6,
      "outputs": []
    },
    {
      "cell_type": "code",
      "metadata": {
        "id": "jmnX8vOT2eKs"
      },
      "source": [
        "c = twint.Config()\n",
        "\n",
        "c.Search = 'obesity'\n",
        "\n",
        "c.Since = '2021-02-01'\n",
        "c.Until = '2021-03-01'\n",
        "\n",
        "c.Hide_output = True\n",
        "\n",
        "c.Store_json = True\n",
        "c.Output = 'obesity_Feb21.json'"
      ],
      "execution_count": 7,
      "outputs": []
    },
    {
      "cell_type": "code",
      "metadata": {
        "colab": {
          "base_uri": "https://localhost:8080/"
        },
        "id": "ocCpumA9Xk47",
        "outputId": "6ccb23ea-7819-4642-aa20-74991b18658d"
      },
      "source": [
        "# Run twint on configured qp\n",
        "\n",
        "twint.run.Search(c)\n",
        "print(\"Running search query\")"
      ],
      "execution_count": 8,
      "outputs": [
        {
          "output_type": "stream",
          "text": [
            "[!] No more data! Scraping will stop now.\n",
            "found 0 deleted tweets in this search.\n",
            "Running search query\n"
          ],
          "name": "stdout"
        }
      ]
    },
    {
      "cell_type": "code",
      "metadata": {
        "colab": {
          "base_uri": "https://localhost:8080/"
        },
        "id": "YD7VrDhnWMwz",
        "outputId": "df10b21b-6d85-4daf-ecb6-5ef5d43774e9"
      },
      "source": [
        "df = pd.read_json('obesity_Feb21.json', lines = True)\n",
        "\n",
        "df.info()"
      ],
      "execution_count": 9,
      "outputs": [
        {
          "output_type": "stream",
          "text": [
            "<class 'pandas.core.frame.DataFrame'>\n",
            "RangeIndex: 49783 entries, 0 to 49782\n",
            "Data columns (total 36 columns):\n",
            " #   Column           Non-Null Count  Dtype              \n",
            "---  ------           --------------  -----              \n",
            " 0   id               49783 non-null  int64              \n",
            " 1   conversation_id  49783 non-null  int64              \n",
            " 2   created_at       49783 non-null  datetime64[ns, UTC]\n",
            " 3   date             49783 non-null  datetime64[ns]     \n",
            " 4   time             49783 non-null  object             \n",
            " 5   timezone         49783 non-null  int64              \n",
            " 6   user_id          49783 non-null  int64              \n",
            " 7   username         49783 non-null  object             \n",
            " 8   name             49783 non-null  object             \n",
            " 9   place            49783 non-null  object             \n",
            " 10  tweet            49783 non-null  object             \n",
            " 11  language         49783 non-null  object             \n",
            " 12  mentions         49783 non-null  object             \n",
            " 13  urls             49783 non-null  object             \n",
            " 14  photos           49783 non-null  object             \n",
            " 15  replies_count    49783 non-null  int64              \n",
            " 16  retweets_count   49783 non-null  int64              \n",
            " 17  likes_count      49783 non-null  int64              \n",
            " 18  hashtags         49783 non-null  object             \n",
            " 19  cashtags         49783 non-null  object             \n",
            " 20  link             49783 non-null  object             \n",
            " 21  retweet          49783 non-null  bool               \n",
            " 22  quote_url        49783 non-null  object             \n",
            " 23  video            49783 non-null  int64              \n",
            " 24  thumbnail        49783 non-null  object             \n",
            " 25  near             49783 non-null  object             \n",
            " 26  geo              49783 non-null  object             \n",
            " 27  source           49783 non-null  object             \n",
            " 28  user_rt_id       49783 non-null  object             \n",
            " 29  user_rt          49783 non-null  object             \n",
            " 30  retweet_id       49783 non-null  object             \n",
            " 31  reply_to         49783 non-null  object             \n",
            " 32  retweet_date     49783 non-null  object             \n",
            " 33  translate        49783 non-null  object             \n",
            " 34  trans_src        49783 non-null  object             \n",
            " 35  trans_dest       49783 non-null  object             \n",
            "dtypes: bool(1), datetime64[ns, UTC](1), datetime64[ns](1), int64(8), object(25)\n",
            "memory usage: 13.3+ MB\n"
          ],
          "name": "stdout"
        }
      ]
    },
    {
      "cell_type": "code",
      "metadata": {
        "colab": {
          "base_uri": "https://localhost:8080/",
          "height": 289
        },
        "id": "weML8SJU49-S",
        "outputId": "5050db9c-7b39-46c1-fdcd-98e697c5a7d6"
      },
      "source": [
        "%matplotlib inline\n",
        "\n",
        "df['date'].value_counts().plot()"
      ],
      "execution_count": 10,
      "outputs": [
        {
          "output_type": "execute_result",
          "data": {
            "text/plain": [
              "<matplotlib.axes._subplots.AxesSubplot at 0x7f1c4ba82d90>"
            ]
          },
          "metadata": {
            "tags": []
          },
          "execution_count": 10
        },
        {
          "output_type": "display_data",
          "data": {
            "image/png": "[encoded data removed]",
            "text/plain": [
              "<Figure size 432x288 with 1 Axes>"
            ]
          },
          "metadata": {
            "tags": [],
            "needs_background": "light"
          }
        }
      ]
    },
    {
      "cell_type": "code",
      "metadata": {
        "colab": {
          "base_uri": "https://localhost:8080/",
          "height": 321
        },
        "id": "P-th9Bs3D5ol",
        "outputId": "991f8724-6d5f-4a6a-e819-1d81100fec96"
      },
      "source": [
        "df['tweet_counts'] = df['retweets_count'] + 1\n",
        "\n",
        "df.groupby(df[\"date\"]).sum()[\"tweet_counts\"].plot()"
      ],
      "execution_count": 11,
      "outputs": [
        {
          "output_type": "execute_result",
          "data": {
            "text/plain": [
              "<matplotlib.axes._subplots.AxesSubplot at 0x7f1c4bba5d50>"
            ]
          },
          "metadata": {
            "tags": []
          },
          "execution_count": 11
        },
        {
          "output_type": "display_data",
          "data": {
            "image/png": "[encoded data removed]",
            "text/plain": [
              "<Figure size 432x288 with 1 Axes>"
            ]
          },
          "metadata": {
            "tags": [],
            "needs_background": "light"
          }
        }
      ]
    },
    {
      "cell_type": "code",
      "metadata": {
        "id": "d79IIKmfT1Tz"
      },
      "source": [
        "# save to csv file\n",
        "df.to_csv('obesity_Mar20.csv')"
      ],
      "execution_count": 12,
      "outputs": []
    },
    {
      "cell_type": "code",
      "metadata": {
        "id": "t0I0p_hO--n3",
        "colab": {
          "base_uri": "https://localhost:8080/"
        },
        "outputId": "f3c56227-58d4-411f-d741-a2645509cc85"
      },
      "source": [
        "# setting up packages for creating edges and nodes\n",
        "import sys\n",
        "import json\n",
        "import re\n",
        "import numpy as np\n",
        "from datetime import datetime\n",
        "import pandas as pd  \n",
        "\n",
        "tweetfile = 'obesity_Mar20.csv'\n",
        "\n",
        "tweets = pd.read_csv(tweetfile)"
      ],
      "execution_count": 13,
      "outputs": [
        {
          "output_type": "stream",
          "text": [
            "/usr/local/lib/python3.7/dist-packages/IPython/core/interactiveshell.py:2718: DtypeWarning: Columns (0,1,2,3,4,5,8,9,10,11,12,13,14,15,19,20,21,22,23,25,32) have mixed types.Specify dtype option on import or set low_memory=False.\n",
            "  interactivity=interactivity, compiler=compiler, result=result)\n"
          ],
          "name": "stderr"
        }
      ]
    },
    {
      "cell_type": "markdown",
      "metadata": {
        "id": "ULBWHfiuUX41"
      },
      "source": [
        "**1. Set up edges from retweets, replies, and mentions**"
      ]
    },
    {
      "cell_type": "code",
      "metadata": {
        "id": "2EzLwiHZCMZd"
      },
      "source": [
        "# creating edge file\n",
        "# 1. Export edges from Retweets\n",
        "retweets = tweets[tweets['retweet'] == 'True']\n",
        "retweets['original_twitter'] = retweets['tweet'].str.extract('RT @([a-zA-Z0-9]\\w{0,}):', expand=True)\n",
        "\n",
        "edges = retweets[['username', 'original_twitter','created_at']]\n",
        "edges.columns = ['Source', 'Target', 'Strength']"
      ],
      "execution_count": 14,
      "outputs": []
    },
    {
      "cell_type": "code",
      "metadata": {
        "id": "plYrzAt6U5f4"
      },
      "source": [
        "# 2. Export edges from Mentions\n",
        "\n",
        "mentions = tweets[tweets['mentions'].notnull()]\n",
        "\n",
        "edges = pd.DataFrame(columns=('Source','Target','Strength'))\n",
        "\n",
        "for index, row in mentions.iterrows():\n",
        "    mention_list = row['mentions'].split(\", \")\n",
        "    for mention in mention_list:\n",
        "        edges = edges.append(pd.DataFrame([[row['username'],\n",
        "                                        mention,\n",
        "                                        row['created_at']]]\n",
        "                                        , columns=('Source','Target','Strength')), ignore_index=True)"
      ],
      "execution_count": 15,
      "outputs": []
    },
    {
      "cell_type": "code",
      "metadata": {
        "id": "jMMMfWqoCQEV"
      },
      "source": [
        "# 3. Export edges from Replies\n",
        "\n",
        "replies = tweets[tweets['reply_to'].notnull()]\n",
        "\n",
        "edges = replies[['username', 'reply_to','created_at']]\n",
        "edges.columns = ['Source', 'Target', 'Strength']"
      ],
      "execution_count": 16,
      "outputs": []
    },
    {
      "cell_type": "markdown",
      "metadata": {
        "id": "jdl0c2-qVOj9"
      },
      "source": [
        "**2. Leave only the tweets whose strength level >= user specified level (directed)**"
      ]
    },
    {
      "cell_type": "code",
      "metadata": {
        "id": "gIKPoMIKoh8G"
      },
      "source": [
        "strengthLevel = 1  # Network connection strength level: the number of times in total each of the tweeters responded to or mentioned the other.\n",
        "                   # If you have 1 as the level, then all tweeters who mentioned or replied to another at least once will be displayed. But if you have 5, only those who have mentioned or responded to a particular tweeter at least 5 times will be displayed, which means that only the strongest bonds are shown.\n",
        "\n",
        "edges2 = edges.groupby(['Source','Target'])['Strength'].count()\n",
        "edges2 = edges2.reset_index()\n",
        "edges2 = edges2[edges2['Strength'] >= strengthLevel]"
      ],
      "execution_count": 17,
      "outputs": []
    },
    {
      "cell_type": "markdown",
      "metadata": {
        "id": "CV5AjLC8VQha"
      },
      "source": [
        "**3. Export nodes**"
      ]
    },
    {
      "cell_type": "code",
      "metadata": {
        "id": "yi4_NHHypCpg"
      },
      "source": [
        "\n",
        "users = tweets[['username']] # leaving out ,'followers_count','friends_count' because I can't figure out how to scape this data with the above query...\n",
        "# leaving out line: users = users.sort_values(['username','followers_count'], ascending=[True, False])\n",
        "users = users.drop_duplicates(['username'], keep='first') \n",
        "\n",
        "ids = edges2['Source'].append(edges2['Target']).to_frame()\n",
        "ids['Label'] = ids\n",
        "ids.columns = ['username', 'Label']\n",
        "ids = ids.drop_duplicates(['username'], keep='first') \n",
        "nodes = pd.merge(ids, users, on='username', how='left')"
      ],
      "execution_count": 20,
      "outputs": []
    },
    {
      "cell_type": "code",
      "metadata": {
        "colab": {
          "base_uri": "https://localhost:8080/"
        },
        "id": "NM8_eKz4pjDp",
        "outputId": "6c8a961f-5de0-46b9-bfbe-4211ba2d082d"
      },
      "source": [
        "print(nodes.shape)\n",
        "print(edges2.shape)"
      ],
      "execution_count": 21,
      "outputs": [
        {
          "output_type": "stream",
          "text": [
            "(50737, 2)\n",
            "(39104, 3)\n"
          ],
          "name": "stdout"
        }
      ]
    },
    {
      "cell_type": "code",
      "metadata": {
        "id": "g6xoh3pzzQRR"
      },
      "source": [
        "# change column names for Kumu import (Run this when using Kumu)\n",
        "edges2.columns = ['From','To','Strength']"
      ],
      "execution_count": 22,
      "outputs": []
    },
    {
      "cell_type": "code",
      "metadata": {
        "colab": {
          "base_uri": "https://localhost:8080/",
          "height": 142
        },
        "id": "HqPGn8v9zaLk",
        "outputId": "2dee6cb8-1832-45f4-f971-aa59a3b317dc"
      },
      "source": [
        "# Print nodes to check\n",
        "nodes.head(3)"
      ],
      "execution_count": 23,
      "outputs": [
        {
          "output_type": "execute_result",
          "data": {
            "text/html": [
              "<div>\n",
              "<style scoped>\n",
              "    .dataframe tbody tr th:only-of-type {\n",
              "        vertical-align: middle;\n",
              "    }\n",
              "\n",
              "    .dataframe tbody tr th {\n",
              "        vertical-align: top;\n",
              "    }\n",
              "\n",
              "    .dataframe thead th {\n",
              "        text-align: right;\n",
              "    }\n",
              "</style>\n",
              "<table border=\"1\" class=\"dataframe\">\n",
              "  <thead>\n",
              "    <tr style=\"text-align: right;\">\n",
              "      <th></th>\n",
              "      <th>username</th>\n",
              "      <th>Label</th>\n",
              "    </tr>\n",
              "  </thead>\n",
              "  <tbody>\n",
              "    <tr>\n",
              "      <th>0</th>\n",
              "      <td>001mellie</td>\n",
              "      <td>001mellie</td>\n",
              "    </tr>\n",
              "    <tr>\n",
              "      <th>1</th>\n",
              "      <td>007pete</td>\n",
              "      <td>007pete</td>\n",
              "    </tr>\n",
              "    <tr>\n",
              "      <th>2</th>\n",
              "      <td>00_pixie</td>\n",
              "      <td>00_pixie</td>\n",
              "    </tr>\n",
              "  </tbody>\n",
              "</table>\n",
              "</div>"
            ],
            "text/plain": [
              "    username      Label\n",
              "0  001mellie  001mellie\n",
              "1    007pete    007pete\n",
              "2   00_pixie   00_pixie"
            ]
          },
          "metadata": {
            "tags": []
          },
          "execution_count": 23
        }
      ]
    },
    {
      "cell_type": "code",
      "metadata": {
        "colab": {
          "base_uri": "https://localhost:8080/",
          "height": 142
        },
        "id": "gu3ipPe2zZ-n",
        "outputId": "00ac37b0-941c-408c-c15a-81312c265066"
      },
      "source": [
        "# Print edges to check\n",
        "edges2.head(3)"
      ],
      "execution_count": 24,
      "outputs": [
        {
          "output_type": "execute_result",
          "data": {
            "text/html": [
              "<div>\n",
              "<style scoped>\n",
              "    .dataframe tbody tr th:only-of-type {\n",
              "        vertical-align: middle;\n",
              "    }\n",
              "\n",
              "    .dataframe tbody tr th {\n",
              "        vertical-align: top;\n",
              "    }\n",
              "\n",
              "    .dataframe thead th {\n",
              "        text-align: right;\n",
              "    }\n",
              "</style>\n",
              "<table border=\"1\" class=\"dataframe\">\n",
              "  <thead>\n",
              "    <tr style=\"text-align: right;\">\n",
              "      <th></th>\n",
              "      <th>From</th>\n",
              "      <th>To</th>\n",
              "      <th>Strength</th>\n",
              "    </tr>\n",
              "  </thead>\n",
              "  <tbody>\n",
              "    <tr>\n",
              "      <th>0</th>\n",
              "      <td>001mellie</td>\n",
              "      <td>[]</td>\n",
              "      <td>1</td>\n",
              "    </tr>\n",
              "    <tr>\n",
              "      <th>1</th>\n",
              "      <td>007pete</td>\n",
              "      <td>[{'screen_name': 'Nate_D_Stone', 'name': 'Nate...</td>\n",
              "      <td>1</td>\n",
              "    </tr>\n",
              "    <tr>\n",
              "      <th>2</th>\n",
              "      <td>00_pixie</td>\n",
              "      <td>[]</td>\n",
              "      <td>1</td>\n",
              "    </tr>\n",
              "  </tbody>\n",
              "</table>\n",
              "</div>"
            ],
            "text/plain": [
              "        From                                                 To  Strength\n",
              "0  001mellie                                                 []         1\n",
              "1    007pete  [{'screen_name': 'Nate_D_Stone', 'name': 'Nate...         1\n",
              "2   00_pixie                                                 []         1"
            ]
          },
          "metadata": {
            "tags": []
          },
          "execution_count": 24
        }
      ]
    },
    {
      "cell_type": "code",
      "metadata": {
        "id": "UtBSzdhNzfdh"
      },
      "source": [
        "# Export nodes and edges to csv files\n",
        "nodes.to_csv('Feb2021_nodes.csv', encoding='utf-8', index=False)\n",
        "edges2.to_csv('Feb2021_edges.csv', encoding='utf-8', index=False)"
      ],
      "execution_count": 25,
      "outputs": []
    },
    {
      "cell_type": "code",
      "metadata": {
        "id": "_Hrn14bnWf-O"
      },
      "source": [
        ""
      ],
      "execution_count": null,
      "outputs": []
    }
  ]
}